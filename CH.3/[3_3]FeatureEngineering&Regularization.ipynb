{
  "nbformat": 4,
  "nbformat_minor": 0,
  "metadata": {
    "colab": {
      "provenance": []
    },
    "kernelspec": {
      "name": "python3",
      "display_name": "Python 3"
    },
    "language_info": {
      "name": "python"
    }
  },
  "cells": [
    {
      "cell_type": "markdown",
      "source": [
        "# **특성 공학(Feature Engineering)**\n",
        "\n",
        "- 기존의 특성을 사용해 새로운 특성을 뽑아내는 것\n",
        "- 특성이 1개일 때 선형 회귀 모델이 학습하는 것 : 직선\n",
        "- 특성이 2개일 때 선형 회귀 모델이 학습하는 것 : 평면\n",
        "- 특성이 3개일 경우는 인간이 상상할 수 없는 모습\n",
        "\n",
        "<br>\n",
        "\n",
        "---\n",
        "\n",
        "<br>\n",
        "\n",
        "## **농어의 무게 예측 실습**\n",
        "\n",
        "- 특성 : 길이, 높이, 두께\n",
        "- 특성이 많은 고차원이므로 다중 회귀\n",
        "- PolynomialFeatures 클래스 사용"
      ],
      "metadata": {
        "id": "JkYLdR0JFYN9"
      }
    },
    {
      "cell_type": "code",
      "execution_count": 2,
      "metadata": {
        "colab": {
          "base_uri": "https://localhost:8080/"
        },
        "id": "2h8iyDyQE1pZ",
        "outputId": "f3fd2f29-0d51-4818-a853-f49d6bb831bf"
      },
      "outputs": [
        {
          "output_type": "stream",
          "name": "stdout",
          "text": [
            "[[ 8.4   2.11  1.41]\n",
            " [13.7   3.53  2.  ]\n",
            " [15.    3.82  2.43]\n",
            " [16.2   4.59  2.63]\n",
            " [17.4   4.59  2.94]]\n"
          ]
        }
      ],
      "source": [
        "# 데이터 준비하기\n",
        "import pandas as pd\n",
        "\n",
        "df = pd.read_csv('https://bit.ly/perch_csv_data')\n",
        "perch_full = df.to_numpy()\n",
        "print(perch_full[:5])"
      ]
    },
    {
      "cell_type": "code",
      "source": [
        "# 타깃 데이터 가져오기\n",
        "import numpy as np\n",
        "\n",
        "perch_weight = np.array(\n",
        "    [5.9, 32.0, 40.0, 51.5, 70.0, 100.0, 78.0, 80.0, 85.0, 85.0,\n",
        "     110.0, 115.0, 125.0, 130.0, 120.0, 120.0, 130.0, 135.0, 110.0,\n",
        "     130.0, 150.0, 145.0, 150.0, 170.0, 225.0, 145.0, 188.0, 180.0,\n",
        "     197.0, 218.0, 300.0, 260.0, 265.0, 250.0, 250.0, 300.0, 320.0,\n",
        "     514.0, 556.0, 840.0, 685.0, 700.0, 700.0, 690.0, 900.0, 650.0,\n",
        "     820.0, 850.0, 900.0, 1015.0, 820.0, 1100.0, 1000.0, 1100.0,\n",
        "     1000.0, 1000.0]\n",
        "     )"
      ],
      "metadata": {
        "id": "5fci5vQuHZDP"
      },
      "execution_count": 3,
      "outputs": []
    },
    {
      "cell_type": "code",
      "source": [
        "# 테스트 데이터 나누기\n",
        "from sklearn.model_selection import train_test_split\n",
        "\n",
        "train_input, test_input, train_target, test_target = train_test_split(perch_full, perch_weight, random_state=42)"
      ],
      "metadata": {
        "id": "kcbGqIFIH0OI"
      },
      "execution_count": 4,
      "outputs": []
    },
    {
      "cell_type": "markdown",
      "source": [
        "## **PolynomialFeatures**\n",
        "\n",
        "- 2개의 특성([2,3])을 가진 샘플을 변환하면 [1. 2. 3. 4. 6. 9.]로 변환된다\n",
        "- PolynomialFeatures는 각 특성을 제곱한 항을 추가하고, 특성끼리 서로 곱한 항을 추가한다\n",
        "- 1은 선형 방정식의 절편이 항상 1인 특성과 곱해이는 계수이기 때문에 나타난다\n",
        "- 사이킷런의 선형 모델은 자동으로 절편을 추가하지만 또한 모델은 자동으로 절편된 항을 무시하기 때문에 굳이 수동으로 없애지 않아도 된다\n",
        "  - 없애고 싶다면 인자로 include_bias=False를 사용"
      ],
      "metadata": {
        "id": "wToMotlIIftE"
      }
    },
    {
      "cell_type": "code",
      "source": [
        "# PolynomialFeatures 클래스는 변환기이므로 fit(), transform() 메소드 제공\n",
        "from sklearn.preprocessing import PolynomialFeatures\n",
        "\n",
        "poly = PolynomialFeatures()\n",
        "poly.fit([[2,3]])\n",
        "print(poly.transform([[2,3]]))"
      ],
      "metadata": {
        "colab": {
          "base_uri": "https://localhost:8080/"
        },
        "id": "hASG5TeKIEAu",
        "outputId": "e85a36fb-3918-45b4-8bac-904bdd47be04"
      },
      "execution_count": 5,
      "outputs": [
        {
          "output_type": "stream",
          "name": "stdout",
          "text": [
            "[[1. 2. 3. 4. 6. 9.]]\n"
          ]
        }
      ]
    },
    {
      "cell_type": "code",
      "source": [
        "# 실제 모델에 사용할 데이터를 변환\n",
        "poly.fit(train_input)\n",
        "train_poly = poly.transform(train_input)\n",
        "print(train_poly.shape)"
      ],
      "metadata": {
        "colab": {
          "base_uri": "https://localhost:8080/"
        },
        "id": "oQsxQgOJIePJ",
        "outputId": "77239a69-ca82-4f57-d265-f05a2ae28cde"
      },
      "execution_count": 6,
      "outputs": [
        {
          "output_type": "stream",
          "name": "stdout",
          "text": [
            "(42, 10)\n"
          ]
        }
      ]
    },
    {
      "cell_type": "code",
      "source": [
        "# 테스트 데이터도 변환\n",
        "test_poly = poly.transform(test_input)"
      ],
      "metadata": {
        "id": "AdYxjvdmJidC"
      },
      "execution_count": 7,
      "outputs": []
    },
    {
      "cell_type": "code",
      "source": [
        "# 다중 회귀 모델 훈련하기\n",
        "from sklearn.linear_model import LinearRegression\n",
        "\n",
        "lr = LinearRegression()\n",
        "lr.fit(train_poly, train_target)\n",
        "# 학습 데이터 점수 확인\n",
        "print(lr.score(train_poly, train_target))"
      ],
      "metadata": {
        "colab": {
          "base_uri": "https://localhost:8080/"
        },
        "id": "wdb1xfCaJrk0",
        "outputId": "75f5b225-8152-4294-9faf-ee3b9c10dd9e"
      },
      "execution_count": 8,
      "outputs": [
        {
          "output_type": "stream",
          "name": "stdout",
          "text": [
            "0.9903183436982125\n"
          ]
        }
      ]
    },
    {
      "cell_type": "code",
      "source": [
        "# 테스트 데이터 점수 확인\n",
        "print(lr.score(test_poly, test_target))"
      ],
      "metadata": {
        "colab": {
          "base_uri": "https://localhost:8080/"
        },
        "id": "1IqCiczuJ8QQ",
        "outputId": "947f3285-fa34-4862-cd4a-2deb10db2dd8"
      },
      "execution_count": 9,
      "outputs": [
        {
          "output_type": "stream",
          "name": "stdout",
          "text": [
            "0.971455991159412\n"
          ]
        }
      ]
    },
    {
      "cell_type": "code",
      "source": [
        "# 차원의 수(특성의 수)를 늘리고 싶다면 degree= 인자로 지정해주면 된다\n",
        "# 하지만 과도한 특성 크기는 오히려 과적합 문제를 발생시킬 수 있다\n",
        "poly = PolynomialFeatures(degree=5)\n",
        "poly.fit(train_input)\n",
        "train_poly = poly.transform(train_input)\n",
        "test_poly = poly.transform(test_input)"
      ],
      "metadata": {
        "id": "s1RJI4aRKGMr"
      },
      "execution_count": 10,
      "outputs": []
    },
    {
      "cell_type": "code",
      "source": [
        "lr.fit(train_poly, train_target)\n",
        "print(lr.score(train_poly, train_target))"
      ],
      "metadata": {
        "colab": {
          "base_uri": "https://localhost:8080/"
        },
        "id": "gMptB6f6KlsB",
        "outputId": "9772ec38-688f-48b8-e32e-9e5de0d8ff10"
      },
      "execution_count": 11,
      "outputs": [
        {
          "output_type": "stream",
          "name": "stdout",
          "text": [
            "0.9999999999999998\n"
          ]
        }
      ]
    },
    {
      "cell_type": "code",
      "source": [
        "# 학습 데이터의 점수는 매우 높지만 테스트 데이터는 그렇지 못함 -> 과대적합\n",
        "print(lr.score(test_poly, test_target))"
      ],
      "metadata": {
        "colab": {
          "base_uri": "https://localhost:8080/"
        },
        "id": "mZluMxuFKsSQ",
        "outputId": "acd5d3a7-7733-42cd-9c3d-17c9a3168369"
      },
      "execution_count": 12,
      "outputs": [
        {
          "output_type": "stream",
          "name": "stdout",
          "text": [
            "-144.40488780428055\n"
          ]
        }
      ]
    },
    {
      "cell_type": "markdown",
      "source": [
        "## **규제(Regualrization)**\n",
        "\n",
        "- 머신 러닝 모델이 너무 과도하게 학습하지 못하도록 규제를 하는 것\n",
        "- 과대적합되지 않도록 하는 방법은 여러가지\n",
        "- 선형 회귀 모델의 경우 특성에 곱해지는 계수(기울기)의 크기를 작게 만드는 것\n",
        "  - 특성의 스케일이 정규화되지 않으면 곱해지는 계수의 차이도 클 것!\n",
        "  - 정규화로 먼저 스케일링을 진행해야함\n",
        "\n",
        "<br>\n",
        "\n",
        "#**1. Ridge**\n",
        "\n",
        "- 계수를 제곱한 값을 기준으로 규제를 적용하여 계수의 크기를 줄임\n",
        "- sklearn.linear_model 패키지에 속함\n",
        "\n",
        "# **2. Lasso**\n",
        "\n",
        "- 계수의 절댓값을 기준으로 규제를 적용하여 계수의 크기를 줄임\n",
        "- 하지만 계수를 아예 0으로 만들 수 있기 때문에 보통 ridge를 더 많이 쓰는 추세\n",
        "- sklearn.linear_model 패키지에 속함\n",
        "\n",
        "  - 두 규제 모두 alpha=인자를 가짐\n",
        "  - alpha는 규제의 양을 조절하는 것으로 하이퍼파라미터 즉, 사람이 지정하는 값이다\n",
        "  - alpha값이 작으면 계수를 줄이는 역할이 줄어들고 선형 회귀 모델과 유사해진다 -> 과대적합될 가능성이 큼\n",
        "  - 적절한 alpha값을 찾는 법 -> R2값의 그래프를 그려보는 것!\n",
        "    - 훈련 세트와 테스트 세트의 점수가 가장 가가운 지점이 최적의 alpha"
      ],
      "metadata": {
        "id": "-j5GyYmHK15Q"
      }
    },
    {
      "cell_type": "code",
      "source": [
        "# 정규화\n",
        "from sklearn.preprocessing import StandardScaler\n",
        "\n",
        "ss = StandardScaler()\n",
        "ss.fit(train_poly)\n",
        "train_scaled = ss.transform(train_poly)\n",
        "test_scaled = ss.transform(test_poly)"
      ],
      "metadata": {
        "id": "WJmEaknIKvYW"
      },
      "execution_count": 13,
      "outputs": []
    },
    {
      "cell_type": "code",
      "source": [
        "# Ridge\n",
        "from sklearn.linear_model import Ridge\n",
        "\n",
        "ridge = Ridge()\n",
        "ridge.fit(train_scaled, train_target)\n",
        "print(ridge.score(train_scaled, train_target))"
      ],
      "metadata": {
        "colab": {
          "base_uri": "https://localhost:8080/"
        },
        "id": "pOE-M-eaLude",
        "outputId": "dcf25005-3430-4c25-a16f-57d568bf4216"
      },
      "execution_count": 14,
      "outputs": [
        {
          "output_type": "stream",
          "name": "stdout",
          "text": [
            "0.9896101671037343\n"
          ]
        }
      ]
    },
    {
      "cell_type": "code",
      "source": [
        "# 과적합 문제 해결\n",
        "print(ridge.score(test_scaled, test_target))"
      ],
      "metadata": {
        "colab": {
          "base_uri": "https://localhost:8080/"
        },
        "id": "GZjQHt2ANCwM",
        "outputId": "bfbb684e-ffff-4a0a-e53f-b01dbe8cd44c"
      },
      "execution_count": 15,
      "outputs": [
        {
          "output_type": "stream",
          "name": "stdout",
          "text": [
            "0.9790693977615387\n"
          ]
        }
      ]
    },
    {
      "cell_type": "code",
      "source": [
        "# R2 그래프로 최적의 alpha값 찾기\n",
        "import matplotlib.pyplot as plt\n",
        "\n",
        "train_score = []\n",
        "test_score = []\n",
        "\n",
        "# 0.001에서 10배씩 올려가며 확인\n",
        "alpha_list = [0.001, 0.01, 0.1, 1, 10, 100]\n",
        "for alpha in alpha_list:\n",
        "  ridge = Ridge(alpha=alpha)\n",
        "  ridge.fit(train_scaled, train_target)\n",
        "  train_score.append(ridge.score(train_scaled, train_target))\n",
        "  test_score.append(ridge.score(test_scaled, test_target))\n",
        "\n",
        "# alpha_list의 6개 값을 동일한 간격으로 나타내기 위해 log함수로 바꾸어 표현\n",
        "plt.plot(np.log10(alpha_list), train_score, label='train_score')\n",
        "plt.plot(np.log10(alpha_list), test_score, label='test_score')\n",
        "plt.xlabel('alpha')\n",
        "plt.ylabel('R^2')\n",
        "plt.legend()\n",
        "plt.show()"
      ],
      "metadata": {
        "colab": {
          "base_uri": "https://localhost:8080/",
          "height": 449
        },
        "id": "W1OayJa0NH5R",
        "outputId": "a2934375-95ba-491d-b924-88944535bd2b"
      },
      "execution_count": 18,
      "outputs": [
        {
          "output_type": "display_data",
          "data": {
            "text/plain": [
              "<Figure size 640x480 with 1 Axes>"
            ],
            "image/png": "[encoded data removed]"
          },
          "metadata": {}
        }
      ]
    },
    {
      "cell_type": "code",
      "source": [
        "# 가장 적합한 alpha값은 -1, 즉 0.1이다\n",
        "ridge = Ridge(alpha=0.1)\n",
        "ridge.fit(train_scaled, train_target)\n",
        "# 훈련 세트와 테스트 세트의 점수가 비슷해짐\n",
        "print(ridge.score(train_scaled, train_target))\n",
        "print(ridge.score(test_scaled, test_target))"
      ],
      "metadata": {
        "colab": {
          "base_uri": "https://localhost:8080/"
        },
        "id": "yF1GQLRROo8i",
        "outputId": "f6aee7ac-3c6b-4909-80bf-4d271bd6fcc1"
      },
      "execution_count": 19,
      "outputs": [
        {
          "output_type": "stream",
          "name": "stdout",
          "text": [
            "0.9903815817570367\n",
            "0.9827976465386931\n"
          ]
        }
      ]
    },
    {
      "cell_type": "code",
      "source": [
        "# Lasso\n",
        "from sklearn.linear_model import Lasso\n",
        "lasso = Lasso()\n",
        "lasso.fit(train_scaled, train_target)\n",
        "print(lasso.score(train_scaled, train_target))\n",
        "print(lasso.score(test_scaled, test_target))"
      ],
      "metadata": {
        "colab": {
          "base_uri": "https://localhost:8080/"
        },
        "id": "kD98hLG-P8nZ",
        "outputId": "56a1b096-e567-4304-a7f2-ace0abadd7f8"
      },
      "execution_count": 20,
      "outputs": [
        {
          "output_type": "stream",
          "name": "stdout",
          "text": [
            "0.989789897208096\n",
            "0.9800593698421883\n"
          ]
        }
      ]
    },
    {
      "cell_type": "code",
      "source": [
        "# Lasso 모델 최적의 alpha값 찾기\n",
        "train_score = []\n",
        "test_score = []\n",
        "alpha_list = [0.001, 0.1, 1, 10, 100]\n",
        "\n",
        "for alpha in alpha_list:\n",
        "  lasso = Lasso(alpha=alpha, max_iter=10000)\n",
        "  lasso.fit(train_scaled, train_target)\n",
        "  train_score.append(lasso.score(train_scaled, train_target))\n",
        "  test_score.append(lasso.score(test_scaled, test_target))\n",
        "\n",
        "# 시각화\n",
        "plt.plot(np.log10(alpha_list), train_score, label='train_score')\n",
        "plt.plot(np.log10(alpha_list), test_score, label='test_score')\n",
        "plt.xlabel('alpha')\n",
        "plt.ylabel('R^2')\n",
        "plt.legend()\n",
        "plt.show()"
      ],
      "metadata": {
        "colab": {
          "base_uri": "https://localhost:8080/",
          "height": 504
        },
        "id": "0RpnzQjOQTZA",
        "outputId": "69273452-d4fd-42b1-e351-aefeddc4129d"
      },
      "execution_count": 24,
      "outputs": [
        {
          "output_type": "stream",
          "name": "stderr",
          "text": [
            "/usr/local/lib/python3.10/dist-packages/sklearn/linear_model/_coordinate_descent.py:631: ConvergenceWarning: Objective did not converge. You might want to increase the number of iterations, check the scale of the features or consider increasing regularisation. Duality gap: 1.878e+04, tolerance: 5.183e+02\n",
            "  model = cd_fast.enet_coordinate_descent(\n"
          ]
        },
        {
          "output_type": "display_data",
          "data": {
            "text/plain": [
              "<Figure size 640x480 with 1 Axes>"
            ],
            "image/png": "[encoded data removed]"
          },
          "metadata": {}
        }
      ]
    },
    {
      "cell_type": "code",
      "source": [
        "# Lasso 모델 최적의 alpha값은 1, 즉 10이다\n",
        "lasso = Lasso(alpha=10)\n",
        "lasso.fit(train_scaled, train_target)\n",
        "print(lasso.score(train_scaled, train_target))\n",
        "print(lasso.score(test_scaled, test_target))"
      ],
      "metadata": {
        "colab": {
          "base_uri": "https://localhost:8080/"
        },
        "id": "DUrbX2rNRHow",
        "outputId": "bc449c50-2d67-4e8e-d282-b6b8e72fe3e7"
      },
      "execution_count": 25,
      "outputs": [
        {
          "output_type": "stream",
          "name": "stdout",
          "text": [
            "0.9888067471131867\n",
            "0.9824470598706695\n"
          ]
        }
      ]
    },
    {
      "cell_type": "code",
      "source": [
        "# Lasso의 0인 계수 확인\n",
        "print(np.sum(lasso.coef_ == 0))"
      ],
      "metadata": {
        "colab": {
          "base_uri": "https://localhost:8080/"
        },
        "id": "eOePH1-6Rox6",
        "outputId": "7f113009-9fef-45cb-8d34-3fc9b8ae6dc9"
      },
      "execution_count": 26,
      "outputs": [
        {
          "output_type": "stream",
          "name": "stdout",
          "text": [
            "41\n"
          ]
        }
      ]
    }
  ]
}