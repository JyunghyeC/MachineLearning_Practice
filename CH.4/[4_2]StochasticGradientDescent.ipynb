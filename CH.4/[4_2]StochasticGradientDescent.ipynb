{
  "nbformat": 4,
  "nbformat_minor": 0,
  "metadata": {
    "colab": {
      "provenance": [],
      "gpuType": "T4"
    },
    "kernelspec": {
      "name": "python3",
      "display_name": "Python 3"
    },
    "language_info": {
      "name": "python"
    },
    "accelerator": "GPU"
  },
  "cells": [
    {
      "cell_type": "markdown",
      "source": [
        "# **확률적 경사 하강법(Stochastic Gradient Descent)**\n",
        "\n",
        "- 점진적 학습의 대표적 알고리즘\n",
        "- 앞서 훈련한 모델은 버리지 않고 새로운 데이터에 대해서만 조금씩 점진적으로 훈련하는 방법\n",
        "  - 경사는 기울기를 말한다\n",
        "  - 하나의 샘플을 훈련 세트에서 랜덤하게 고른다 = 확률적\n",
        "  - 만족할만한 위치에 도달할 때까지 모든 샘플을 다 사용하며 경사를 내려간다\n",
        "  - 훈련 세트를 한 번 모두 사용하는 과정 = 에포크(epoch)\n",
        "    - 경사 하강법은 일반적으로 수십, 수백 번 이상 에포크를 수행\n",
        "- 무작위로 몇 개의 샘플을 선택해서 경사를 따라 내려가는 방법 = 미니배치 경사 하강법\n",
        "- 극단적으로 한 번 경사로를 따라 이동하기 위해 전체 샘플을 사용하는 방법 = 배치 경사 하강법\n",
        "- 훈련 데이터가 모두 준비되지 않고 매일 업데이트가 되는 상황에서 유용\n",
        "- 신경망 알고리즘이 사용함\n",
        "- sklearn.linear_model 패기지에 존재"
      ],
      "metadata": {
        "id": "HESSHC9dNxaZ"
      }
    },
    {
      "cell_type": "markdown",
      "source": [
        "## **손실 함수(Loss function)**\n",
        "\n",
        "- 머신 러닝 알고리즘이 얼마나 엉터리인지 측정하는 기준\n",
        "- 샘플 하나에 대한 손실을 정의함\n",
        "- 손실 함수의 값이 적을수록 좋다\n",
        "  - 손실 함수는 미분 가능해야 한다\n",
        "- 비용 함수라고도 함\n",
        "  - 비용 함수(cost function) : 훈련 세트에 있는 모든 샘플에 대한 손실 함수의 합\n"
      ],
      "metadata": {
        "id": "HgBz5DOUSzpo"
      }
    },
    {
      "cell_type": "markdown",
      "source": [
        "### **문제 정의**\n",
        "\n",
        "- 이전 7종의 생선 데이터뿐만 아니라 계속해서 새로운 데이터가 생기는 상황\n",
        "- 이전 데이터도 유지하면서 새로운 생선 데이터도 적용하여 생선 종류 확률 예측"
      ],
      "metadata": {
        "id": "1hP4VAg0ZiOC"
      }
    },
    {
      "cell_type": "code",
      "execution_count": 1,
      "metadata": {
        "id": "G1CHWwyuNvqa"
      },
      "outputs": [],
      "source": [
        "import pandas as pd\n",
        "\n",
        "fish = pd.read_csv('https://bit.ly/fish_csv_data')"
      ]
    },
    {
      "cell_type": "code",
      "source": [
        "fish_input = fish[['Weight', 'Length', 'Diagonal', 'Height', 'Width']].to_numpy()\n",
        "fish_target = fish['Species'].to_numpy()"
      ],
      "metadata": {
        "id": "4-xkEGMjZ8hB"
      },
      "execution_count": 2,
      "outputs": []
    },
    {
      "cell_type": "code",
      "source": [
        "from sklearn.model_selection import train_test_split\n",
        "\n",
        "train_input, test_input, train_target, test_target = train_test_split(fish_input, fish_target, random_state=42)"
      ],
      "metadata": {
        "id": "4MiWZomJaKCM"
      },
      "execution_count": 3,
      "outputs": []
    },
    {
      "cell_type": "code",
      "source": [
        "from sklearn.preprocessing import StandardScaler\n",
        "\n",
        "ss = StandardScaler()\n",
        "ss.fit(train_input)\n",
        "train_scaled = ss.transform(train_input)\n",
        "test_scaled = ss.transform(test_input)"
      ],
      "metadata": {
        "id": "AulEJkkWae2D"
      },
      "execution_count": 4,
      "outputs": []
    },
    {
      "cell_type": "code",
      "source": [
        "# 확률적 경사 하강법 모델링\n",
        "from sklearn.linear_model import SGDClassifier\n",
        "# loss는 손실 함수의 종류를 지정\n",
        "# max_iter는 수행할 에포크 횟수를 지정\n",
        "sc = SGDClassifier(loss='log_loss', max_iter=10, random_state=42)\n",
        "sc.fit(train_scaled, train_target)\n",
        "print(sc.score(train_scaled, train_target))\n",
        "print(sc.score(test_scaled, test_target))"
      ],
      "metadata": {
        "colab": {
          "base_uri": "https://localhost:8080/"
        },
        "id": "2qjT6T7MatWg",
        "outputId": "729fe0f9-06ba-420b-ceec-bda1f6405ad9"
      },
      "execution_count": 10,
      "outputs": [
        {
          "output_type": "stream",
          "name": "stdout",
          "text": [
            "0.773109243697479\n",
            "0.775\n"
          ]
        },
        {
          "output_type": "stream",
          "name": "stderr",
          "text": [
            "/usr/local/lib/python3.10/dist-packages/sklearn/linear_model/_stochastic_gradient.py:702: ConvergenceWarning: Maximum number of iteration reached before convergence. Consider increasing max_iter to improve the fit.\n",
            "  warnings.warn(\n"
          ]
        }
      ]
    },
    {
      "cell_type": "code",
      "source": [
        "# 모델을 이어서 훈련할 때는 partial_fit()을 사용\n",
        "# fit()과 같지만 호출할 때마다 1 에포크씩 이어서 훈련할 수 있다\n",
        "sc.partial_fit(train_scaled, train_target)\n",
        "print(sc.score(train_scaled, train_target))\n",
        "print(sc.score(test_scaled, test_target))"
      ],
      "metadata": {
        "colab": {
          "base_uri": "https://localhost:8080/"
        },
        "id": "omNmXG67bPOo",
        "outputId": "8b8ffd9d-1bf1-426c-a934-48674178180e"
      },
      "execution_count": 11,
      "outputs": [
        {
          "output_type": "stream",
          "name": "stdout",
          "text": [
            "0.8151260504201681\n",
            "0.85\n"
          ]
        }
      ]
    },
    {
      "cell_type": "markdown",
      "source": [
        "## **에포크의 과대/과소적합**\n",
        "\n",
        "- 에포크가 진행됨에 따라 훈련 세트는 꾸준히 증가하지만 테스트 세트 점수는 어느 순간부터 감소\n",
        "- 이 지점이 과대적합되기 시작하는 곳\n",
        "- 과대적합이 시작하기 전에 훈련을 멈추는 것 : 조기 종료(early stopping)"
      ],
      "metadata": {
        "id": "_R9g6bY1dT0I"
      }
    },
    {
      "cell_type": "code",
      "source": [
        "# 에포크의 과대/과소적합 예제\n",
        "import numpy as np\n",
        "\n",
        "sc = SGDClassifier(loss='log_loss', random_state=42)\n",
        "train_score = []\n",
        "test_score = []\n",
        "classes = np.unique(train_target)"
      ],
      "metadata": {
        "id": "hJGmpRXIcAXo"
      },
      "execution_count": 12,
      "outputs": []
    },
    {
      "cell_type": "code",
      "source": [
        "for _ in range(0, 300) :\n",
        "  sc.partial_fit(train_scaled, train_target, classes=classes)\n",
        "  train_score.append(sc.score(train_scaled, train_target))\n",
        "  test_score.append(sc.score(test_scaled, test_target))"
      ],
      "metadata": {
        "id": "ZvTWLrBNd8-u"
      },
      "execution_count": 13,
      "outputs": []
    },
    {
      "cell_type": "code",
      "source": [
        "import matplotlib.pyplot as plt\n",
        "\n",
        "plt.plot(train_score, label='train_score')\n",
        "plt.plot(test_score, label='test_score')\n",
        "plt.xlabel('epoch')\n",
        "plt.ylabel('accuracy')\n",
        "plt.legend()\n",
        "plt.show()"
      ],
      "metadata": {
        "colab": {
          "base_uri": "https://localhost:8080/",
          "height": 449
        },
        "id": "6ZJMZ6JkePG_",
        "outputId": "bebc50df-e85b-4409-9b20-ea4ee2ac05d9"
      },
      "execution_count": 14,
      "outputs": [
        {
          "output_type": "display_data",
          "data": {
            "text/plain": [
              "<Figure size 640x480 with 1 Axes>"
            ],
            "image/png": "[encoded data removed]"
          },
          "metadata": {}
        }
      ]
    },
    {
      "cell_type": "code",
      "source": [
        "# 100번때 에포크가 가장 적합해보임\n",
        "# SGDClassifier는 일정 에포크 동안 성능이 상승하지 않으면 자동으로 멈춤. 이를 방지하기 위해 tol를 None으로 지정\n",
        "sc = SGDClassifier(loss='log_loss', max_iter=100, tol=None, random_state=42)\n",
        "sc.fit(train_scaled, train_target)\n",
        "print(sc.score(train_scaled, train_target))\n",
        "print(sc.score(test_scaled, test_target))"
      ],
      "metadata": {
        "colab": {
          "base_uri": "https://localhost:8080/"
        },
        "id": "Q_Ht0uuBefua",
        "outputId": "6f125055-fbfe-4964-df46-cc0197d71a31"
      },
      "execution_count": 16,
      "outputs": [
        {
          "output_type": "stream",
          "name": "stdout",
          "text": [
            "0.957983193277311\n",
            "0.925\n"
          ]
        }
      ]
    }
  ]
}